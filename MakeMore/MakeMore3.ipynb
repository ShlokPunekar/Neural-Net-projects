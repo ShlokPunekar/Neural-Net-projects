{
 "cells": [
  {
   "cell_type": "markdown",
   "metadata": {},
   "source": [
    "Introduces batch normalization"
   ]
  },
  {
   "cell_type": "code",
   "execution_count": 104,
   "metadata": {},
   "outputs": [],
   "source": [
    "import torch\n",
    "import torch.nn.functional as F\n",
    "import matplotlib.pyplot as plt"
   ]
  },
  {
   "cell_type": "code",
   "execution_count": 105,
   "metadata": {},
   "outputs": [
    {
     "data": {
      "text/plain": [
       "['emma', 'olivia', 'ava', 'isabella', 'sophia', 'charlotte', 'mia', 'amelia']"
      ]
     },
     "execution_count": 105,
     "metadata": {},
     "output_type": "execute_result"
    }
   ],
   "source": [
    "words = open('names.txt','r').read().splitlines()\n",
    "words[:8]"
   ]
  },
  {
   "cell_type": "code",
   "execution_count": 106,
   "metadata": {},
   "outputs": [
    {
     "data": {
      "text/plain": [
       "32033"
      ]
     },
     "execution_count": 106,
     "metadata": {},
     "output_type": "execute_result"
    }
   ],
   "source": [
    "len(words)"
   ]
  },
  {
   "cell_type": "code",
   "execution_count": 107,
   "metadata": {},
   "outputs": [
    {
     "name": "stdout",
     "output_type": "stream",
     "text": [
      "{1: 'a', 2: 'b', 3: 'c', 4: 'd', 5: 'e', 6: 'f', 7: 'g', 8: 'h', 9: 'i', 10: 'j', 11: 'k', 12: 'l', 13: 'm', 14: 'n', 15: 'o', 16: 'p', 17: 'q', 18: 'r', 19: 's', 20: 't', 21: 'u', 22: 'v', 23: 'w', 24: 'x', 25: 'y', 26: 'z', 0: '.'}\n",
      "27\n"
     ]
    }
   ],
   "source": [
    "# building the vocabulary\n",
    "chars = sorted(list(set(''.join(words))))\n",
    "stoi = {char:i+1 for i,char in enumerate(chars)}\n",
    "stoi['.'] = 0\n",
    "itos = {i:char for char,i in stoi.items()}\n",
    "vocab_size = len(itos)\n",
    "print(itos)\n",
    "print(vocab_size)"
   ]
  },
  {
   "cell_type": "code",
   "execution_count": 108,
   "metadata": {},
   "outputs": [],
   "source": [
    "block_size = 3\n",
    "# Building the dataset\n",
    "def build_dataset(words):\n",
    "    X,Y=[],[]\n",
    "\n",
    "    for word in words:\n",
    "\n",
    "        context = [0]*block_size\n",
    "        for ch in word + '.':\n",
    "            ix=stoi[ch]\n",
    "            X.append(context)\n",
    "            Y.append(ix)\n",
    "            context = context[1:] + [ix]\n",
    "\n",
    "    X = torch.tensor(X)\n",
    "    Y = torch.tensor(Y)\n",
    "    return X,Y\n",
    "import random\n",
    "random.seed(42)\n",
    "random.shuffle(words)\n",
    "n1=int(len(words)*0.8)\n",
    "n2=int(len(words)*0.9)\n",
    "\n",
    "Xtr, Ytr = build_dataset(words[:n1])            #80%\n",
    "Xdev, Ydev = build_dataset(words[n1:n2])        #10%\n",
    "Xte, Yte = build_dataset(words[n2:])            #10%"
   ]
  },
  {
   "cell_type": "code",
   "execution_count": 109,
   "metadata": {},
   "outputs": [
    {
     "data": {
      "text/plain": [
       "(torch.Size([182625, 3]), torch.Size([182625]))"
      ]
     },
     "execution_count": 109,
     "metadata": {},
     "output_type": "execute_result"
    }
   ],
   "source": [
    "Xtr.shape, Ytr.shape"
   ]
  },
  {
   "cell_type": "code",
   "execution_count": null,
   "metadata": {},
   "outputs": [
    {
     "name": "stdout",
     "output_type": "stream",
     "text": [
      "12027\n"
     ]
    }
   ],
   "source": [
    "n_embd = 10\n",
    "n_hidden = 200\n",
    "\n",
    "\n",
    "g = torch.Generator().manual_seed(2147483647)\n",
    "C=torch.randn((vocab_size,n_embd),                              generator=g)\n",
    "w1 = torch.randn((n_embd * block_size, n_hidden),               generator=g)  * (5/3)/((n_embd * block_size) ** 0.5) # Formula for initializing weight of hidden layer for tan h\n",
    "b1 = torch.randn((n_hidden),                                    generator=g)  * 0.01\n",
    "w2 = torch.randn((n_hidden, vocab_size),                        generator=g)  * 0.01   # we initialize w2 to be small\n",
    "b2 = torch.randn((vocab_size),                                  generator=g)  * 0    # we dont need to initialize b2\n",
    "\n",
    "# We make those changes to w2 and b2 because thats how we get low initial loss and prevent the hockey stick effect\n",
    "bngain = torch.ones(1, n_hidden)\n",
    "bnbias = torch.zeros(1, n_hidden)\n",
    "bnmean_running = torch.zeros(1, n_hidden)\n",
    "bnstd_running= torch.ones(1,n_hidden)\n",
    "\n",
    "parameters = [w1,b1,w2,b2, bngain, bnbias]\n",
    "print(sum(p.nelement() for p in parameters))\n",
    "for p in parameters:\n",
    "    p.requires_grad= True"
   ]
  },
  {
   "cell_type": "code",
   "execution_count": null,
   "metadata": {},
   "outputs": [
    {
     "name": "stdout",
     "output_type": "stream",
     "text": [
      "      0/  10000: 2.3436\n",
      "   1000/  10000: 2.0953\n",
      "   2000/  10000: 2.3401\n",
      "   3000/  10000: 2.2631\n",
      "   4000/  10000: 1.9857\n",
      "   5000/  10000: 2.1090\n",
      "   6000/  10000: 2.0529\n",
      "   7000/  10000: 2.1189\n",
      "   8000/  10000: 1.9992\n",
      "   9000/  10000: 2.0991\n"
     ]
    }
   ],
   "source": [
    "max_steps = 10000\n",
    "batch_size = 32\n",
    "lri = []\n",
    "lossi = []\n",
    "for i in range(max_steps):\n",
    "\n",
    "    # Minibatch construction----------------------------------------\n",
    "    ix = torch.randint(0, Xtr.shape[0], (batch_size,))\n",
    "    Xb, Yb = Xtr[ix], Ytr[ix]\n",
    "\n",
    "    # Forward pass--------------------------------------------------\n",
    "    emb = C[Xb]  # Embed the characters into vectors\n",
    "    embcat = emb.view(emb.shape[0], -1)     # Concatenate the vectors\n",
    "    hpreact = embcat @ w1 + b1\n",
    "\n",
    "    # Batch norm layer ---------------------------------------------\n",
    "    bnmeani = hpreact.mean(0,keepdim=True)\n",
    "    bnstdi = hpreact.std(0,keepdim=True)\n",
    "    hpreact = bngain * (hpreact - bnmeani)/bnstdi +bnbias\n",
    "    with torch.no_grad():\n",
    "        bnmean_running =0.999 * bnmean_running +0.001 *bnmeani\n",
    "        bnstd_running =0.999 * bnstd_running +0.001 *bnstdi\n",
    "    # Non linearity-------------------------------------------------\n",
    "\n",
    "    h = torch.tanh(hpreact)      \n",
    "    logits = h @ w2 + b2\n",
    "    loss = F.cross_entropy(logits, Ytr[ix])\n",
    "    # print(loss.item())\n",
    "\n",
    "    # Backward pass--------------------------------------------------\n",
    "    for p in parameters:\n",
    "        p.grad = None\n",
    "    loss.backward()\n",
    "\n",
    "    # update---------------------------------------------------------\n",
    "    # lr = lrs[i]\n",
    "    lr= 0.1 if i < 6000 else 0.01\n",
    "    for p in parameters:\n",
    "        p.data += -lr * p.grad\n",
    "\n",
    "    # Track stats\n",
    "    if i % 1000 == 0:\n",
    "        print(f'{i:7d}/{max_steps:7d}: {loss.item():.4f}')\n",
    "    lossi.append(loss.log10().item())\n",
    "\n",
    "\n"
   ]
  },
  {
   "cell_type": "code",
   "execution_count": 112,
   "metadata": {},
   "outputs": [],
   "source": [
    "# plt.figure(figsize=(20,10))\n",
    "# plt.imshow(h.abs()>0.99, cmap='gray', interpolation='nearest')"
   ]
  },
  {
   "cell_type": "code",
   "execution_count": 113,
   "metadata": {},
   "outputs": [],
   "source": [
    "# plt.hist(h.view(-1).tolist(),50)"
   ]
  },
  {
   "cell_type": "code",
   "execution_count": 123,
   "metadata": {},
   "outputs": [
    {
     "data": {
      "text/plain": [
       "[<matplotlib.lines.Line2D at 0x26d8ae3bad0>]"
      ]
     },
     "execution_count": 123,
     "metadata": {},
     "output_type": "execute_result"
    },
    {
     "data": {
      "image/png": "[encoded data removed]",
      "text/plain": [
       "<Figure size 640x480 with 1 Axes>"
      ]
     },
     "metadata": {},
     "output_type": "display_data"
    }
   ],
   "source": [
    "plt.plot(lossi)"
   ]
  },
  {
   "cell_type": "code",
   "execution_count": 124,
   "metadata": {},
   "outputs": [],
   "source": [
    "# calibrate the batch norm at the end of training\n",
    "with torch.no_grad():\n",
    "    # pass the training set through\n",
    "    emb = C[Xtr]\n",
    "    embcat = emb.view(emb.shape[0],-1)\n",
    "    hpreact = embcat @w1 + b1\n",
    "    # measure the mean/std over the entire training set\n",
    "    bnmean = hpreact.mean(0, keepdim=True)\n",
    "    bnstd = hpreact.std(0, keepdim=True)"
   ]
  },
  {
   "cell_type": "code",
   "execution_count": 126,
   "metadata": {},
   "outputs": [
    {
     "name": "stdout",
     "output_type": "stream",
     "text": [
      "train loss: 2.1564\n",
      "dev loss: 2.1753\n"
     ]
    }
   ],
   "source": [
    "@torch.no_grad()\n",
    "def split_loss(split):\n",
    "    x,y = {\n",
    "        'train': (Xtr,Ytr),\n",
    "        'dev': (Xdev,Ydev),\n",
    "        'test': (Xte,Yte)\n",
    "    }[split]\n",
    "    emb = C[x]\n",
    "    embcat = emb.view(emb.shape[0], -1)\n",
    "    hpreact = embcat @ w1 + b1\n",
    "    hpreact = bngain * (hpreact - bnmean)/ bnstd +bnbias\n",
    "    h=torch.tanh(hpreact)\n",
    "    logits = h @ w2 + b2\n",
    "    loss = F.cross_entropy(logits, y)\n",
    "    print(f'{split} loss: {loss.item():.4f}')\n",
    "split_loss('train')\n",
    "split_loss('dev')"
   ]
  },
  {
   "cell_type": "code",
   "execution_count": 119,
   "metadata": {},
   "outputs": [
    {
     "name": "stdout",
     "output_type": "stream",
     "text": [
      "mrrahgmyazzreelmndhlyah.\n",
      "remmrstengrlegraxxmyriel.\n",
      "mullynnelleigh.\n",
      "vangearvellynmorala.\n",
      "nyshdgvrgxhzmin.\n",
      "trin.\n",
      "rwellelxnghuofyubergvdar.\n",
      "jadulyeh.\n",
      "ylayja.\n",
      "shmyla.\n",
      "haznavgyansuuwzalil.\n",
      "juren.\n",
      "crrvnsvevoen.\n",
      "prrdxrnqyxmerbyggpril.\n",
      "shmulyxh.\n",
      "hurergmin.\n",
      "jorivevordwrlla.\n",
      "ortarmiz.\n",
      "jedgsilv.\n",
      "britgfrxvalyivin.\n"
     ]
    }
   ],
   "source": [
    "g = torch.Generator().manual_seed(2147483647 + 10)\n",
    "\n",
    "for _ in range(20):\n",
    "    out=[]\n",
    "    context = [0]*block_size\n",
    "    while True:\n",
    "        emb = C[torch.tensor(context)]\n",
    "        embcat = emb.view(1, -1)\n",
    "        h=torch.tanh(embcat @ w1 + b1)\n",
    "        logits = h @ w2 + b2\n",
    "        probs = F.softmax(logits, dim=1)\n",
    "        ix = torch.multinomial(probs, num_samples=1 ,generator=g).item()\n",
    "        context = context[1:] + [ix]\n",
    "        out.append(ix)\n",
    "        if ix == 0:\n",
    "            break\n",
    "    print(''.join(itos[i] for i in out))"
   ]
  }
 ],
 "metadata": {
  "kernelspec": {
   "display_name": "Python 3",
   "language": "python",
   "name": "python3"
  },
  "language_info": {
   "codemirror_mode": {
    "name": "ipython",
    "version": 3
   },
   "file_extension": ".py",
   "mimetype": "text/x-python",
   "name": "python",
   "nbconvert_exporter": "python",
   "pygments_lexer": "ipython3",
   "version": "3.11.4"
  }
 },
 "nbformat": 4,
 "nbformat_minor": 2
}
